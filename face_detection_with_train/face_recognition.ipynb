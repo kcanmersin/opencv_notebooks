{
 "cells": [
  {
   "cell_type": "code",
   "execution_count": 1,
   "metadata": {},
   "outputs": [],
   "source": [
    "import numpy as np\n",
    "import cv2 as cv"
   ]
  },
  {
   "cell_type": "code",
   "execution_count": 2,
   "metadata": {},
   "outputs": [],
   "source": [
    "\n",
    "haar_cascade = cv.CascadeClassifier(r'haar_face.xml')\n",
    "\n",
    "people = ['Christopher Moltisanti', 'Meadow Soprano', 'Paulie Gualtieri', 'Tony Soprano']\n",
    "\n",
    "face_recognizer = cv.face.LBPHFaceRecognizer_create()\n",
    "face_recognizer.read(r'face_trained.yml')\n",
    "\n",
    "img = cv.imread(r's4e3G8uo_400x400.jpg')\n",
    "\n",
    "gray = cv.cvtColor(img, cv.COLOR_BGR2GRAY)"
   ]
  },
  {
   "cell_type": "code",
   "execution_count": 7,
   "metadata": {},
   "outputs": [],
   "source": [
    "for (x, y, w, h) in faces_rect:\n",
    "    faces_roi = gray[y:y+h, x:x+w]\n",
    "\n",
    "    # Yüzü tanı\n",
    "    label, confidence = face_recognizer.predict(faces_roi)\n",
    "    detected_person = people[label]\n",
    "    confidence_percent = round((1 - confidence / 300) * 100, 2)\n",
    "    \n",
    "    confidence_text = f'Confidence: {confidence_percent}%'\n",
    "    \n",
    "    cv.putText(img, confidence_text, (x, y + h + 45), cv.FONT_HERSHEY_SIMPLEX, 0.7, (0, 255, 0), 2)\n",
    "    cv.rectangle(img, (x, y), (x + w, y + h), (0, 255, 0), 2)\n",
    "\n",
    "# Sonuçları göster\n",
    "cv.imshow('Detected Faces', img)\n",
    "cv.waitKey(0)\n",
    "cv.destroyAllWindows()"
   ]
  }
 ],
 "metadata": {
  "kernelspec": {
   "display_name": "Python 3",
   "language": "python",
   "name": "python3"
  },
  "language_info": {
   "codemirror_mode": {
    "name": "ipython",
    "version": 3
   },
   "file_extension": ".py",
   "mimetype": "text/x-python",
   "name": "python",
   "nbconvert_exporter": "python",
   "pygments_lexer": "ipython3",
   "version": "3.9.13"
  },
  "orig_nbformat": 4
 },
 "nbformat": 4,
 "nbformat_minor": 2
}
